{
 "cells": [
  {
   "cell_type": "code",
   "execution_count": 1,
   "metadata": {},
   "outputs": [],
   "source": [
    "import pandas as pd\n",
    "import numpy as np\n",
    "import scipy\n",
    "import math\n",
    "import os\n",
    "import tensorflow as tf\n",
    "import matplotlib.pyplot as plt\n",
    "import seaborn as sns"
   ]
  },
  {
   "cell_type": "code",
   "execution_count": 2,
   "metadata": {},
   "outputs": [],
   "source": [
    "import nltk\n",
    "\n",
    "STOP = set(nltk.corpus.stopwords.words(\"english\"))\n",
    "\n",
    "class Sentence:\n",
    "    \n",
    "    def __init__(self, sentence):\n",
    "        self.raw = sentence\n",
    "        normalized_sentence = sentence.replace(\"‘\", \"'\").replace(\"’\", \"'\")\n",
    "        self.tokens = [t.lower() for t in nltk.word_tokenize(normalized_sentence)]\n",
    "        self.tokens_without_stop = [t for t in self.tokens if t not in STOP]\n"
   ]
  },
  {
   "cell_type": "code",
   "execution_count": 5,
   "metadata": {},
   "outputs": [
    {
     "ename": "FileNotFoundError",
     "evalue": "[Errno 2] No such file or directory: 'embeds/GoogleNews-vectors-negative300.bin'",
     "output_type": "error",
     "traceback": [
      "\u001b[0;31m---------------------------------------------------------------------------\u001b[0m",
      "\u001b[0;31mFileNotFoundError\u001b[0m                         Traceback (most recent call last)",
      "\u001b[0;32m<ipython-input-5-ce6c2c97019d>\u001b[0m in \u001b[0;36m<module>\u001b[0;34m\u001b[0m\n\u001b[1;32m      7\u001b[0m \u001b[0;31m# PATH_TO_GLOVE = os.path.expanduser(\"~/data/glove/glove.840B.300d.txt\")\u001b[0m\u001b[0;34m\u001b[0m\u001b[0;34m\u001b[0m\u001b[0;34m\u001b[0m\u001b[0m\n\u001b[1;32m      8\u001b[0m \u001b[0;34m\u001b[0m\u001b[0m\n\u001b[0;32m----> 9\u001b[0;31m \u001b[0mword2vec\u001b[0m \u001b[0;34m=\u001b[0m \u001b[0mgensim\u001b[0m\u001b[0;34m.\u001b[0m\u001b[0mmodels\u001b[0m\u001b[0;34m.\u001b[0m\u001b[0mKeyedVectors\u001b[0m\u001b[0;34m.\u001b[0m\u001b[0mload_word2vec_format\u001b[0m\u001b[0;34m(\u001b[0m\u001b[0mPATH_TO_WORD2VEC\u001b[0m\u001b[0;34m,\u001b[0m \u001b[0mbinary\u001b[0m\u001b[0;34m=\u001b[0m\u001b[0;32mTrue\u001b[0m\u001b[0;34m)\u001b[0m\u001b[0;34m\u001b[0m\u001b[0;34m\u001b[0m\u001b[0m\n\u001b[0m",
      "\u001b[0;32m/anaconda3/lib/python3.7/site-packages/gensim/models/keyedvectors.py\u001b[0m in \u001b[0;36mload_word2vec_format\u001b[0;34m(cls, fname, fvocab, binary, encoding, unicode_errors, limit, datatype)\u001b[0m\n\u001b[1;32m   1496\u001b[0m         return _load_word2vec_format(\n\u001b[1;32m   1497\u001b[0m             \u001b[0mcls\u001b[0m\u001b[0;34m,\u001b[0m \u001b[0mfname\u001b[0m\u001b[0;34m,\u001b[0m \u001b[0mfvocab\u001b[0m\u001b[0;34m=\u001b[0m\u001b[0mfvocab\u001b[0m\u001b[0;34m,\u001b[0m \u001b[0mbinary\u001b[0m\u001b[0;34m=\u001b[0m\u001b[0mbinary\u001b[0m\u001b[0;34m,\u001b[0m \u001b[0mencoding\u001b[0m\u001b[0;34m=\u001b[0m\u001b[0mencoding\u001b[0m\u001b[0;34m,\u001b[0m \u001b[0municode_errors\u001b[0m\u001b[0;34m=\u001b[0m\u001b[0municode_errors\u001b[0m\u001b[0;34m,\u001b[0m\u001b[0;34m\u001b[0m\u001b[0;34m\u001b[0m\u001b[0m\n\u001b[0;32m-> 1498\u001b[0;31m             limit=limit, datatype=datatype)\n\u001b[0m\u001b[1;32m   1499\u001b[0m \u001b[0;34m\u001b[0m\u001b[0m\n\u001b[1;32m   1500\u001b[0m     \u001b[0;32mdef\u001b[0m \u001b[0mget_keras_embedding\u001b[0m\u001b[0;34m(\u001b[0m\u001b[0mself\u001b[0m\u001b[0;34m,\u001b[0m \u001b[0mtrain_embeddings\u001b[0m\u001b[0;34m=\u001b[0m\u001b[0;32mFalse\u001b[0m\u001b[0;34m)\u001b[0m\u001b[0;34m:\u001b[0m\u001b[0;34m\u001b[0m\u001b[0;34m\u001b[0m\u001b[0m\n",
      "\u001b[0;32m/anaconda3/lib/python3.7/site-packages/gensim/models/utils_any2vec.py\u001b[0m in \u001b[0;36m_load_word2vec_format\u001b[0;34m(cls, fname, fvocab, binary, encoding, unicode_errors, limit, datatype)\u001b[0m\n\u001b[1;32m    340\u001b[0m \u001b[0;34m\u001b[0m\u001b[0m\n\u001b[1;32m    341\u001b[0m     \u001b[0mlogger\u001b[0m\u001b[0;34m.\u001b[0m\u001b[0minfo\u001b[0m\u001b[0;34m(\u001b[0m\u001b[0;34m\"loading projection weights from %s\"\u001b[0m\u001b[0;34m,\u001b[0m \u001b[0mfname\u001b[0m\u001b[0;34m)\u001b[0m\u001b[0;34m\u001b[0m\u001b[0;34m\u001b[0m\u001b[0m\n\u001b[0;32m--> 342\u001b[0;31m     \u001b[0;32mwith\u001b[0m \u001b[0mutils\u001b[0m\u001b[0;34m.\u001b[0m\u001b[0mopen\u001b[0m\u001b[0;34m(\u001b[0m\u001b[0mfname\u001b[0m\u001b[0;34m,\u001b[0m \u001b[0;34m'rb'\u001b[0m\u001b[0;34m)\u001b[0m \u001b[0;32mas\u001b[0m \u001b[0mfin\u001b[0m\u001b[0;34m:\u001b[0m\u001b[0;34m\u001b[0m\u001b[0;34m\u001b[0m\u001b[0m\n\u001b[0m\u001b[1;32m    343\u001b[0m         \u001b[0mheader\u001b[0m \u001b[0;34m=\u001b[0m \u001b[0mutils\u001b[0m\u001b[0;34m.\u001b[0m\u001b[0mto_unicode\u001b[0m\u001b[0;34m(\u001b[0m\u001b[0mfin\u001b[0m\u001b[0;34m.\u001b[0m\u001b[0mreadline\u001b[0m\u001b[0;34m(\u001b[0m\u001b[0;34m)\u001b[0m\u001b[0;34m,\u001b[0m \u001b[0mencoding\u001b[0m\u001b[0;34m=\u001b[0m\u001b[0mencoding\u001b[0m\u001b[0;34m)\u001b[0m\u001b[0;34m\u001b[0m\u001b[0;34m\u001b[0m\u001b[0m\n\u001b[1;32m    344\u001b[0m         \u001b[0mvocab_size\u001b[0m\u001b[0;34m,\u001b[0m \u001b[0mvector_size\u001b[0m \u001b[0;34m=\u001b[0m \u001b[0;34m(\u001b[0m\u001b[0mint\u001b[0m\u001b[0;34m(\u001b[0m\u001b[0mx\u001b[0m\u001b[0;34m)\u001b[0m \u001b[0;32mfor\u001b[0m \u001b[0mx\u001b[0m \u001b[0;32min\u001b[0m \u001b[0mheader\u001b[0m\u001b[0;34m.\u001b[0m\u001b[0msplit\u001b[0m\u001b[0;34m(\u001b[0m\u001b[0;34m)\u001b[0m\u001b[0;34m)\u001b[0m  \u001b[0;31m# throws for invalid file format\u001b[0m\u001b[0;34m\u001b[0m\u001b[0;34m\u001b[0m\u001b[0m\n",
      "\u001b[0;32m/anaconda3/lib/python3.7/site-packages/smart_open/smart_open_lib.py\u001b[0m in \u001b[0;36mopen\u001b[0;34m(uri, mode, buffering, encoding, errors, newline, closefd, opener, ignore_ext, transport_params)\u001b[0m\n\u001b[1;32m    305\u001b[0m         \u001b[0mbuffering\u001b[0m\u001b[0;34m=\u001b[0m\u001b[0mbuffering\u001b[0m\u001b[0;34m,\u001b[0m\u001b[0;34m\u001b[0m\u001b[0;34m\u001b[0m\u001b[0m\n\u001b[1;32m    306\u001b[0m         \u001b[0mencoding\u001b[0m\u001b[0;34m=\u001b[0m\u001b[0mencoding\u001b[0m\u001b[0;34m,\u001b[0m\u001b[0;34m\u001b[0m\u001b[0;34m\u001b[0m\u001b[0m\n\u001b[0;32m--> 307\u001b[0;31m         \u001b[0merrors\u001b[0m\u001b[0;34m=\u001b[0m\u001b[0merrors\u001b[0m\u001b[0;34m,\u001b[0m\u001b[0;34m\u001b[0m\u001b[0;34m\u001b[0m\u001b[0m\n\u001b[0m\u001b[1;32m    308\u001b[0m     )\n\u001b[1;32m    309\u001b[0m     \u001b[0;32mif\u001b[0m \u001b[0mfobj\u001b[0m \u001b[0;32mis\u001b[0m \u001b[0;32mnot\u001b[0m \u001b[0;32mNone\u001b[0m\u001b[0;34m:\u001b[0m\u001b[0;34m\u001b[0m\u001b[0;34m\u001b[0m\u001b[0m\n",
      "\u001b[0;32m/anaconda3/lib/python3.7/site-packages/smart_open/smart_open_lib.py\u001b[0m in \u001b[0;36m_shortcut_open\u001b[0;34m(uri, mode, ignore_ext, buffering, encoding, errors)\u001b[0m\n\u001b[1;32m    510\u001b[0m     \u001b[0;31m#\u001b[0m\u001b[0;34m\u001b[0m\u001b[0;34m\u001b[0m\u001b[0;34m\u001b[0m\u001b[0m\n\u001b[1;32m    511\u001b[0m     \u001b[0;32mif\u001b[0m \u001b[0msix\u001b[0m\u001b[0;34m.\u001b[0m\u001b[0mPY3\u001b[0m\u001b[0;34m:\u001b[0m\u001b[0;34m\u001b[0m\u001b[0;34m\u001b[0m\u001b[0m\n\u001b[0;32m--> 512\u001b[0;31m         \u001b[0;32mreturn\u001b[0m \u001b[0m_builtin_open\u001b[0m\u001b[0;34m(\u001b[0m\u001b[0mparsed_uri\u001b[0m\u001b[0;34m.\u001b[0m\u001b[0muri_path\u001b[0m\u001b[0;34m,\u001b[0m \u001b[0mmode\u001b[0m\u001b[0;34m,\u001b[0m \u001b[0mbuffering\u001b[0m\u001b[0;34m=\u001b[0m\u001b[0mbuffering\u001b[0m\u001b[0;34m,\u001b[0m \u001b[0;34m**\u001b[0m\u001b[0mopen_kwargs\u001b[0m\u001b[0;34m)\u001b[0m\u001b[0;34m\u001b[0m\u001b[0;34m\u001b[0m\u001b[0m\n\u001b[0m\u001b[1;32m    513\u001b[0m     \u001b[0;32melif\u001b[0m \u001b[0;32mnot\u001b[0m \u001b[0mopen_kwargs\u001b[0m\u001b[0;34m:\u001b[0m\u001b[0;34m\u001b[0m\u001b[0;34m\u001b[0m\u001b[0m\n\u001b[1;32m    514\u001b[0m         \u001b[0;32mreturn\u001b[0m \u001b[0m_builtin_open\u001b[0m\u001b[0;34m(\u001b[0m\u001b[0mparsed_uri\u001b[0m\u001b[0;34m.\u001b[0m\u001b[0muri_path\u001b[0m\u001b[0;34m,\u001b[0m \u001b[0mmode\u001b[0m\u001b[0;34m,\u001b[0m \u001b[0mbuffering\u001b[0m\u001b[0;34m=\u001b[0m\u001b[0mbuffering\u001b[0m\u001b[0;34m)\u001b[0m\u001b[0;34m\u001b[0m\u001b[0;34m\u001b[0m\u001b[0m\n",
      "\u001b[0;31mFileNotFoundError\u001b[0m: [Errno 2] No such file or directory: 'embeds/GoogleNews-vectors-negative300.bin'"
     ]
    }
   ],
   "source": [
    "import gensim\n",
    "\n",
    "from gensim.models import Word2Vec\n",
    "from gensim.scripts.glove2word2vec import glove2word2vec\n",
    "\n",
    "PATH_TO_WORD2VEC = \"embeds/GoogleNews-vectors-negative300.bin\"\n",
    "# PATH_TO_GLOVE = os.path.expanduser(\"~/data/glove/glove.840B.300d.txt\")\n",
    "\n",
    "word2vec = gensim.models.KeyedVectors.load_word2vec_format(PATH_TO_WORD2VEC, binary=True)"
   ]
  },
  {
   "cell_type": "code",
   "execution_count": null,
   "metadata": {},
   "outputs": [],
   "source": [
    "\n",
    "tmp_file = \"/tmp/glove.840B.300d.w2v.txt\"\n",
    "glove2word2vec(PATH_TO_GLOVE, tmp_file)\n",
    "glove = gensim.models.KeyedVectors.load_word2vec_format(tmp_file)"
   ]
  },
  {
   "cell_type": "code",
   "execution_count": 11,
   "metadata": {},
   "outputs": [],
   "source": [
    "import json\n",
    "from collections import Counter,defaultdict\n",
    "def read_json(path,f):\n",
    "    json_data = []\n",
    "    cur_path = os.path.join(path,f)\n",
    "    with open(cur_path) as json_file:\n",
    "        for line in json_file:\n",
    "            json_data.append(json.loads(line))\n",
    "    return json_data\n",
    "def save_json(path,data):\n",
    "    with open(path, 'w') as f:\n",
    "        json.dump(data, f)\n",
    "def process_data(json_data):\n",
    "    tmp = defaultdict(lambda: defaultdict(int))\n",
    "    for session in json_data[0]:\n",
    "        events = session[\"events\"]\n",
    "        last_vrex_search=-1\n",
    "        tune = -1\n",
    "        for idx,event in enumerate(events):\n",
    "            if event[\"eventType\"] == \"vrexSearch\":\n",
    "                last_vrex_search = idx\n",
    "        if last_vrex_search >=0:\n",
    "            for idx in range(last_vrex_search,len(events)):\n",
    "                event = events[idx]\n",
    "                if event[\"eventType\"] == \"mediaTuneMetrics\":\n",
    "                    tune = idx\n",
    "                    break\n",
    "        if last_vrex_search >=0 and tune >= 0:\n",
    "            query = events[last_vrex_search][\"term\"]\n",
    "            to = events[tune][\"title\"]\n",
    "            tmp[query][to] += 1\n",
    "    print(len(tmp))\n",
    "    return tmp"
   ]
  },
  {
   "cell_type": "code",
   "execution_count": 12,
   "metadata": {},
   "outputs": [
    {
     "name": "stdout",
     "output_type": "stream",
     "text": [
      "18327\n"
     ]
    }
   ],
   "source": [
    "FOLDER_PATH = \"hailong_data/07_30\"\n",
    "FILE_NAME = \"session-vrex-tune-2019-07-30-13.json\"\n",
    "json_data = read_json(FOLDER_PATH,FILE_NAME)\n",
    "query2program = process_data(json_data)"
   ]
  },
  {
   "cell_type": "code",
   "execution_count": 13,
   "metadata": {},
   "outputs": [],
   "source": [
    "queries = [k for k in query2program]"
   ]
  },
  {
   "cell_type": "code",
   "execution_count": 8,
   "metadata": {},
   "outputs": [],
   "source": [
    "import tensorflow_hub as hub\n",
    "\n",
    "tf.logging.set_verbosity(tf.logging.ERROR)\n",
    "embed = hub.Module(\"https://tfhub.dev/google/universal-sentence-encoder/1\")"
   ]
  },
  {
   "cell_type": "code",
   "execution_count": 9,
   "metadata": {},
   "outputs": [],
   "source": [
    "sentences = tf.placeholder(dtype=tf.string, shape=[None])\n",
    "embedding_fun = embed(sentences)"
   ]
  },
  {
   "cell_type": "code",
   "execution_count": 15,
   "metadata": {},
   "outputs": [],
   "source": [
    "with tf.Session() as sess:\n",
    "    sess.run([tf.global_variables_initializer(), tf.tables_initializer()])\n",
    "    context_embed = sess.run(embedding_fun, feed_dict={sentences: queries})"
   ]
  },
  {
   "cell_type": "code",
   "execution_count": 18,
   "metadata": {},
   "outputs": [
    {
     "data": {
      "text/plain": [
       "(18327, 512)"
      ]
     },
     "execution_count": 18,
     "metadata": {},
     "output_type": "execute_result"
    }
   ],
   "source": [
    "context_embed.shape"
   ]
  },
  {
   "cell_type": "code",
   "execution_count": 20,
   "metadata": {},
   "outputs": [],
   "source": [
    "def compute_euclidean_dist(embed):\n",
    "    from scipy.spatial import distance_matrix\n",
    "    dist_matrix = distance_matrix(embed,embed)\n",
    "    return dist_matrix\n",
    "euclidean_dist_matrix = compute_euclidean_dist(context_embed)"
   ]
  },
  {
   "cell_type": "code",
   "execution_count": 28,
   "metadata": {},
   "outputs": [],
   "source": [
    "def pick_most_similar(src_sent, dist_mat, ret_count=10, threshold=None):\n",
    "    dist_order = np.argsort(dist_mat[src_sent,:])[1:1+ret_count]\n",
    "    dist_list = dist_mat[src_sent][dist_order]\n",
    "    mask = np.ones_like(dist_list)\n",
    "    if threshold is not None:\n",
    "        mask = np.where(dist_list < threshold)\n",
    "        return dist_order[mask], dist_list[mask]\n",
    "    else:\n",
    "        return dist_order, dist_list"
   ]
  },
  {
   "cell_type": "code",
   "execution_count": 30,
   "metadata": {},
   "outputs": [
    {
     "data": {
      "text/plain": [
       "'animal planet'"
      ]
     },
     "execution_count": 30,
     "metadata": {},
     "output_type": "execute_result"
    }
   ],
   "source": [
    "queries[1]"
   ]
  },
  {
   "cell_type": "code",
   "execution_count": 39,
   "metadata": {},
   "outputs": [],
   "source": [
    "d1,d2 = pick_most_similar(1,euclidean_dist_matrix,20)"
   ]
  },
  {
   "cell_type": "code",
   "execution_count": 40,
   "metadata": {},
   "outputs": [
    {
     "name": "stdout",
     "output_type": "stream",
     "text": [
      "animal planet animal planet\n",
      "the animal planet\n",
      "animal planet shows\n",
      "animal animal planet\n",
      "animal planet channel\n",
      "nickelodeon animal planet\n",
      "animal planet on demand\n",
      "show me animal planet\n",
      "free animal planet\n",
      "animal planet hd\n",
      "animal planet on demand shows\n",
      "find animal planet\n",
      "animal channel\n",
      "find the animal planet\n",
      "turn to animal planet\n",
      "put on animal planet\n",
      "let's watch animal planet\n",
      "find animal planet channel\n",
      "go to animal planet\n",
      "show me the animal planet\n"
     ]
    }
   ],
   "source": [
    "for each in d1:\n",
    "    print(queries[each])"
   ]
  },
  {
   "cell_type": "code",
   "execution_count": 41,
   "metadata": {},
   "outputs": [],
   "source": [
    "from nltk.cluster import KMeansClusterer\n",
    "import nltk"
   ]
  },
  {
   "cell_type": "code",
   "execution_count": 52,
   "metadata": {},
   "outputs": [
    {
     "ename": "KeyboardInterrupt",
     "evalue": "",
     "output_type": "error",
     "traceback": [
      "\u001b[0;31m---------------------------------------------------------------------------\u001b[0m",
      "\u001b[0;31mKeyboardInterrupt\u001b[0m                         Traceback (most recent call last)",
      "\u001b[0;32m<ipython-input-52-10700ff5557e>\u001b[0m in \u001b[0;36m<module>\u001b[0;34m\u001b[0m\n\u001b[1;32m      2\u001b[0m \u001b[0;31m#cosine_distance\u001b[0m\u001b[0;34m\u001b[0m\u001b[0;34m\u001b[0m\u001b[0;34m\u001b[0m\u001b[0m\n\u001b[1;32m      3\u001b[0m \u001b[0mkclusterer\u001b[0m \u001b[0;34m=\u001b[0m \u001b[0mKMeansClusterer\u001b[0m\u001b[0;34m(\u001b[0m\u001b[0mNUM_CLUSTERS\u001b[0m\u001b[0;34m,\u001b[0m \u001b[0mdistance\u001b[0m\u001b[0;34m=\u001b[0m\u001b[0mnltk\u001b[0m\u001b[0;34m.\u001b[0m\u001b[0mcluster\u001b[0m\u001b[0;34m.\u001b[0m\u001b[0mutil\u001b[0m\u001b[0;34m.\u001b[0m\u001b[0meuclidean_distance\u001b[0m\u001b[0;34m,\u001b[0m \u001b[0mrepeats\u001b[0m\u001b[0;34m=\u001b[0m\u001b[0;36m25\u001b[0m\u001b[0;34m)\u001b[0m\u001b[0;34m\u001b[0m\u001b[0;34m\u001b[0m\u001b[0m\n\u001b[0;32m----> 4\u001b[0;31m \u001b[0massigned_clusters\u001b[0m \u001b[0;34m=\u001b[0m \u001b[0mkclusterer\u001b[0m\u001b[0;34m.\u001b[0m\u001b[0mcluster\u001b[0m\u001b[0;34m(\u001b[0m\u001b[0mcontext_embed\u001b[0m\u001b[0;34m,\u001b[0m \u001b[0massign_clusters\u001b[0m\u001b[0;34m=\u001b[0m\u001b[0;32mTrue\u001b[0m\u001b[0;34m)\u001b[0m\u001b[0;34m\u001b[0m\u001b[0;34m\u001b[0m\u001b[0m\n\u001b[0m",
      "\u001b[0;32m/anaconda3/lib/python3.7/site-packages/nltk/cluster/util.py\u001b[0m in \u001b[0;36mcluster\u001b[0;34m(self, vectors, assign_clusters, trace)\u001b[0m\n\u001b[1;32m     60\u001b[0m \u001b[0;34m\u001b[0m\u001b[0m\n\u001b[1;32m     61\u001b[0m         \u001b[0;31m# call abstract method to cluster the vectors\u001b[0m\u001b[0;34m\u001b[0m\u001b[0;34m\u001b[0m\u001b[0;34m\u001b[0m\u001b[0m\n\u001b[0;32m---> 62\u001b[0;31m         \u001b[0mself\u001b[0m\u001b[0;34m.\u001b[0m\u001b[0mcluster_vectorspace\u001b[0m\u001b[0;34m(\u001b[0m\u001b[0mvectors\u001b[0m\u001b[0;34m,\u001b[0m \u001b[0mtrace\u001b[0m\u001b[0;34m)\u001b[0m\u001b[0;34m\u001b[0m\u001b[0;34m\u001b[0m\u001b[0m\n\u001b[0m\u001b[1;32m     63\u001b[0m \u001b[0;34m\u001b[0m\u001b[0m\n\u001b[1;32m     64\u001b[0m         \u001b[0;31m# assign the vectors to clusters\u001b[0m\u001b[0;34m\u001b[0m\u001b[0;34m\u001b[0m\u001b[0;34m\u001b[0m\u001b[0m\n",
      "\u001b[0;32m/anaconda3/lib/python3.7/site-packages/nltk/cluster/kmeans.py\u001b[0m in \u001b[0;36mcluster_vectorspace\u001b[0;34m(self, vectors, trace)\u001b[0m\n\u001b[1;32m     92\u001b[0m             \u001b[0;32mif\u001b[0m \u001b[0;32mnot\u001b[0m \u001b[0mself\u001b[0m\u001b[0;34m.\u001b[0m\u001b[0m_means\u001b[0m \u001b[0;32mor\u001b[0m \u001b[0mtrial\u001b[0m \u001b[0;34m>\u001b[0m \u001b[0;36m1\u001b[0m\u001b[0;34m:\u001b[0m\u001b[0;34m\u001b[0m\u001b[0;34m\u001b[0m\u001b[0m\n\u001b[1;32m     93\u001b[0m                 \u001b[0mself\u001b[0m\u001b[0;34m.\u001b[0m\u001b[0m_means\u001b[0m \u001b[0;34m=\u001b[0m \u001b[0mself\u001b[0m\u001b[0;34m.\u001b[0m\u001b[0m_rng\u001b[0m\u001b[0;34m.\u001b[0m\u001b[0msample\u001b[0m\u001b[0;34m(\u001b[0m\u001b[0mlist\u001b[0m\u001b[0;34m(\u001b[0m\u001b[0mvectors\u001b[0m\u001b[0;34m)\u001b[0m\u001b[0;34m,\u001b[0m \u001b[0mself\u001b[0m\u001b[0;34m.\u001b[0m\u001b[0m_num_means\u001b[0m\u001b[0;34m)\u001b[0m\u001b[0;34m\u001b[0m\u001b[0;34m\u001b[0m\u001b[0m\n\u001b[0;32m---> 94\u001b[0;31m             \u001b[0mself\u001b[0m\u001b[0;34m.\u001b[0m\u001b[0m_cluster_vectorspace\u001b[0m\u001b[0;34m(\u001b[0m\u001b[0mvectors\u001b[0m\u001b[0;34m,\u001b[0m \u001b[0mtrace\u001b[0m\u001b[0;34m)\u001b[0m\u001b[0;34m\u001b[0m\u001b[0;34m\u001b[0m\u001b[0m\n\u001b[0m\u001b[1;32m     95\u001b[0m             \u001b[0mmeanss\u001b[0m\u001b[0;34m.\u001b[0m\u001b[0mappend\u001b[0m\u001b[0;34m(\u001b[0m\u001b[0mself\u001b[0m\u001b[0;34m.\u001b[0m\u001b[0m_means\u001b[0m\u001b[0;34m)\u001b[0m\u001b[0;34m\u001b[0m\u001b[0;34m\u001b[0m\u001b[0m\n\u001b[1;32m     96\u001b[0m \u001b[0;34m\u001b[0m\u001b[0m\n",
      "\u001b[0;32m/anaconda3/lib/python3.7/site-packages/nltk/cluster/kmeans.py\u001b[0m in \u001b[0;36m_cluster_vectorspace\u001b[0;34m(self, vectors, trace)\u001b[0m\n\u001b[1;32m    123\u001b[0m                 \u001b[0mclusters\u001b[0m \u001b[0;34m=\u001b[0m \u001b[0;34m[\u001b[0m\u001b[0;34m[\u001b[0m\u001b[0;34m]\u001b[0m \u001b[0;32mfor\u001b[0m \u001b[0mm\u001b[0m \u001b[0;32min\u001b[0m \u001b[0mrange\u001b[0m\u001b[0;34m(\u001b[0m\u001b[0mself\u001b[0m\u001b[0;34m.\u001b[0m\u001b[0m_num_means\u001b[0m\u001b[0;34m)\u001b[0m\u001b[0;34m]\u001b[0m\u001b[0;34m\u001b[0m\u001b[0;34m\u001b[0m\u001b[0m\n\u001b[1;32m    124\u001b[0m                 \u001b[0;32mfor\u001b[0m \u001b[0mvector\u001b[0m \u001b[0;32min\u001b[0m \u001b[0mvectors\u001b[0m\u001b[0;34m:\u001b[0m\u001b[0;34m\u001b[0m\u001b[0;34m\u001b[0m\u001b[0m\n\u001b[0;32m--> 125\u001b[0;31m                     \u001b[0mindex\u001b[0m \u001b[0;34m=\u001b[0m \u001b[0mself\u001b[0m\u001b[0;34m.\u001b[0m\u001b[0mclassify_vectorspace\u001b[0m\u001b[0;34m(\u001b[0m\u001b[0mvector\u001b[0m\u001b[0;34m)\u001b[0m\u001b[0;34m\u001b[0m\u001b[0;34m\u001b[0m\u001b[0m\n\u001b[0m\u001b[1;32m    126\u001b[0m                     \u001b[0mclusters\u001b[0m\u001b[0;34m[\u001b[0m\u001b[0mindex\u001b[0m\u001b[0;34m]\u001b[0m\u001b[0;34m.\u001b[0m\u001b[0mappend\u001b[0m\u001b[0;34m(\u001b[0m\u001b[0mvector\u001b[0m\u001b[0;34m)\u001b[0m\u001b[0;34m\u001b[0m\u001b[0;34m\u001b[0m\u001b[0m\n\u001b[1;32m    127\u001b[0m \u001b[0;34m\u001b[0m\u001b[0m\n",
      "\u001b[0;32m/anaconda3/lib/python3.7/site-packages/nltk/cluster/kmeans.py\u001b[0m in \u001b[0;36mclassify_vectorspace\u001b[0;34m(self, vector)\u001b[0m\n\u001b[1;32m    148\u001b[0m         \u001b[0;32mfor\u001b[0m \u001b[0mindex\u001b[0m \u001b[0;32min\u001b[0m \u001b[0mrange\u001b[0m\u001b[0;34m(\u001b[0m\u001b[0mlen\u001b[0m\u001b[0;34m(\u001b[0m\u001b[0mself\u001b[0m\u001b[0;34m.\u001b[0m\u001b[0m_means\u001b[0m\u001b[0;34m)\u001b[0m\u001b[0;34m)\u001b[0m\u001b[0;34m:\u001b[0m\u001b[0;34m\u001b[0m\u001b[0;34m\u001b[0m\u001b[0m\n\u001b[1;32m    149\u001b[0m             \u001b[0mmean\u001b[0m \u001b[0;34m=\u001b[0m \u001b[0mself\u001b[0m\u001b[0;34m.\u001b[0m\u001b[0m_means\u001b[0m\u001b[0;34m[\u001b[0m\u001b[0mindex\u001b[0m\u001b[0;34m]\u001b[0m\u001b[0;34m\u001b[0m\u001b[0;34m\u001b[0m\u001b[0m\n\u001b[0;32m--> 150\u001b[0;31m             \u001b[0mdist\u001b[0m \u001b[0;34m=\u001b[0m \u001b[0mself\u001b[0m\u001b[0;34m.\u001b[0m\u001b[0m_distance\u001b[0m\u001b[0;34m(\u001b[0m\u001b[0mvector\u001b[0m\u001b[0;34m,\u001b[0m \u001b[0mmean\u001b[0m\u001b[0;34m)\u001b[0m\u001b[0;34m\u001b[0m\u001b[0;34m\u001b[0m\u001b[0m\n\u001b[0m\u001b[1;32m    151\u001b[0m             \u001b[0;32mif\u001b[0m \u001b[0mbest_distance\u001b[0m \u001b[0;32mis\u001b[0m \u001b[0;32mNone\u001b[0m \u001b[0;32mor\u001b[0m \u001b[0mdist\u001b[0m \u001b[0;34m<\u001b[0m \u001b[0mbest_distance\u001b[0m\u001b[0;34m:\u001b[0m\u001b[0;34m\u001b[0m\u001b[0;34m\u001b[0m\u001b[0m\n\u001b[1;32m    152\u001b[0m                 \u001b[0mbest_index\u001b[0m\u001b[0;34m,\u001b[0m \u001b[0mbest_distance\u001b[0m \u001b[0;34m=\u001b[0m \u001b[0mindex\u001b[0m\u001b[0;34m,\u001b[0m \u001b[0mdist\u001b[0m\u001b[0;34m\u001b[0m\u001b[0;34m\u001b[0m\u001b[0m\n",
      "\u001b[0;32m/anaconda3/lib/python3.7/site-packages/nltk/cluster/util.py\u001b[0m in \u001b[0;36meuclidean_distance\u001b[0;34m(u, v)\u001b[0m\n\u001b[1;32m    123\u001b[0m     \"\"\"\n\u001b[1;32m    124\u001b[0m     \u001b[0mdiff\u001b[0m \u001b[0;34m=\u001b[0m \u001b[0mu\u001b[0m \u001b[0;34m-\u001b[0m \u001b[0mv\u001b[0m\u001b[0;34m\u001b[0m\u001b[0;34m\u001b[0m\u001b[0m\n\u001b[0;32m--> 125\u001b[0;31m     \u001b[0;32mreturn\u001b[0m \u001b[0msqrt\u001b[0m\u001b[0;34m(\u001b[0m\u001b[0mnumpy\u001b[0m\u001b[0;34m.\u001b[0m\u001b[0mdot\u001b[0m\u001b[0;34m(\u001b[0m\u001b[0mdiff\u001b[0m\u001b[0;34m,\u001b[0m \u001b[0mdiff\u001b[0m\u001b[0;34m)\u001b[0m\u001b[0;34m)\u001b[0m\u001b[0;34m\u001b[0m\u001b[0;34m\u001b[0m\u001b[0m\n\u001b[0m\u001b[1;32m    126\u001b[0m \u001b[0;34m\u001b[0m\u001b[0m\n\u001b[1;32m    127\u001b[0m \u001b[0;34m\u001b[0m\u001b[0m\n",
      "\u001b[0;31mKeyboardInterrupt\u001b[0m: "
     ]
    }
   ],
   "source": [
    "NUM_CLUSTERS=900\n",
    "#cosine_distance\n",
    "kclusterer = KMeansClusterer(NUM_CLUSTERS, distance=nltk.cluster.util.euclidean_distance, repeats=25)\n",
    "assigned_clusters = kclusterer.cluster(context_embed, assign_clusters=True)"
   ]
  },
  {
   "cell_type": "code",
   "execution_count": null,
   "metadata": {},
   "outputs": [],
   "source": []
  },
  {
   "cell_type": "code",
   "execution_count": 47,
   "metadata": {},
   "outputs": [
    {
     "data": {
      "text/plain": [
       "'animal planet'"
      ]
     },
     "execution_count": 47,
     "metadata": {},
     "output_type": "execute_result"
    }
   ],
   "source": [
    "queries[1]"
   ]
  },
  {
   "cell_type": "code",
   "execution_count": 51,
   "metadata": {},
   "outputs": [
    {
     "data": {
      "text/plain": [
       "'paw patrol'"
      ]
     },
     "execution_count": 51,
     "metadata": {},
     "output_type": "execute_result"
    }
   ],
   "source": [
    "queries[6]"
   ]
  },
  {
   "cell_type": "code",
   "execution_count": null,
   "metadata": {},
   "outputs": [],
   "source": [
    "assigned_clusters"
   ]
  },
  {
   "cell_type": "code",
   "execution_count": 73,
   "metadata": {},
   "outputs": [],
   "source": [
    "from sklearn import cluster\n",
    "from sklearn import metrics\n",
    "NUM_CLUSTERS = 100\n",
    "kmeans = cluster.KMeans(n_clusters=NUM_CLUSTERS)\n",
    "kmeans.fit(context_embed)\n",
    " \n",
    "labels = kmeans.labels_\n",
    "centroids = kmeans.cluster_centers_"
   ]
  },
  {
   "cell_type": "code",
   "execution_count": 83,
   "metadata": {},
   "outputs": [
    {
     "data": {
      "text/plain": [
       "(100, 512)"
      ]
     },
     "execution_count": 83,
     "metadata": {},
     "output_type": "execute_result"
    }
   ],
   "source": [
    "centroids.shape"
   ]
  },
  {
   "cell_type": "code",
   "execution_count": 81,
   "metadata": {},
   "outputs": [
    {
     "data": {
      "text/plain": [
       "array(['battlebots', 'american ninja warrior junior', 'power rangers',\n",
       "       'american ninja warrior', 'smurfs english',\n",
       "       'mel mao mao: heroes of pure heart',\n",
       "       'mao mao: heroes of pure heart', 'power rangers dino charge',\n",
       "       'power rangers ninja steel', 'knight rider', 'heroes & icons',\n",
       "       'my hero academy', 'hero 6', 'find heroes & icons',\n",
       "       \"ok k.o.! let's be heroes\", 'ninja warrior', 'play power rangers',\n",
       "       'find american ninja warrior', 'power ranger sabins',\n",
       "       'the strongest man in history', 'american ninja junior',\n",
       "       'american ninja warrior ninja warrior', 'ninja vs. tyler on',\n",
       "       'sergeant stubby an american hero', 'dildo heroes',\n",
       "       \"world's deadliest\", 'hero girls', 'ninjago masters of spinjitzu',\n",
       "       'descendents marathon', 'sanban power rangers',\n",
       "       'aries spears comic blueprint', 'power ranger shows',\n",
       "       'watch american ninja warrior', 'beyblade: shogun steel',\n",
       "       'alexa go told american ninja warrior',\n",
       "       'epic tales of captain underpants', \"world's strongest man\",\n",
       "       'rainbow rangers', 'iron man youtube', 'g.i. joe', 'ninja',\n",
       "       \"lone ranger's\", 'power rangers beast morford',\n",
       "       'team ninja warrior', 'cheap power ranger',\n",
       "       'max american ninja warrior show', 'battlebots battlebots',\n",
       "       'strongest man', 'new cutting wars', 'free power rangers',\n",
       "       'can ninja warrior junior', 'watch ninja vs. ninja',\n",
       "       'strongest man in history', 'american ninja',\n",
       "       'my hero academia to heroes', 'ranger rob', 'find battlebots',\n",
       "       'american ninja warrior 2019', 'mighty morphin power rangers',\n",
       "       'melmo heroes of pure heart', 'power rangers ninja steel part 2',\n",
       "       'junior ninja warrior',\n",
       "       'american ninja warrior american ninja warrior',\n",
       "       'the documentary of ultimate warrior', 'warrior junior',\n",
       "       'the power rangers movie', \"ko let's be heroes\", 'find karate kid',\n",
       "       'power rangers super ninja steel', 'ninja vs. ninja',\n",
       "       'go to power rangers', 'american ninja warrior youtube',\n",
       "       'play ninja warrior', 'find rainbow rangers',\n",
       "       'american ninja warriors', 'okay klfb heroes',\n",
       "       'walker, texas ranger', 'ninja warrior junior',\n",
       "       'power ranger power ranger',\n",
       "       'american ninja warrior ninja vs. ninja', 'hero inc.',\n",
       "       'american ninja warrior junior episode',\n",
       "       'american american ninja warrior',\n",
       "       'he-man and the masters of the universe', 'osiris worth it',\n",
       "       'xena the warrior princess', 'heroes and icons',\n",
       "       'power rangers samurai', 'okay klsv heroes', 'rainbow ranger',\n",
       "       'american ninja warrior kids version', 'hero academy',\n",
       "       'can ninja warrior', 'mortal kombat', 'world strongest men',\n",
       "       'show me mighty morphin power rangers: the movie',\n",
       "       'blade blade turbo', 'wildcats alaska heroes journey',\n",
       "       'youtube black panther crew to city camouflage', 'mental samurai',\n",
       "       'teen ninja warriors', 'play go go power rangers',\n",
       "       'go go power ranger', 'dodos heroes',\n",
       "       'power paw patrol space ranger armor', 'ninja assassin',\n",
       "       'low mao mao: heroes of pure heart', 'find xena warrior princess',\n",
       "       'ninja warriors', 'scorpion youtube', 'power ranger',\n",
       "       'regular power rangers', 'my hero academy to hero',\n",
       "       '3 ninjas kick back', 'youtube marvel legends hunting'],\n",
       "      dtype='<U110')"
      ]
     },
     "execution_count": 81,
     "metadata": {},
     "output_type": "execute_result"
    }
   ],
   "source": [
    "cur_label=5\n",
    "indexes = np.where(labels==cur_label)\n",
    "np.array(queries)[indexes]"
   ]
  },
  {
   "cell_type": "code",
   "execution_count": 82,
   "metadata": {},
   "outputs": [
    {
     "data": {
      "text/plain": [
       "array([-3.79818156e-02, -2.01500505e-02, -2.73027420e-02, -2.30461638e-03,\n",
       "        1.54417623e-02, -1.45422099e-02,  2.74933176e-04, -1.56202996e-02,\n",
       "       -4.78789173e-02, -1.04728490e-02,  2.39983723e-02, -1.68087352e-02,\n",
       "        6.29486069e-02, -1.48629490e-02, -5.60750440e-02,  4.23770398e-03,\n",
       "        3.96860465e-02, -4.02539298e-02,  2.36671045e-02, -6.15866482e-03,\n",
       "       -1.57597363e-02, -3.66673097e-02,  1.98372398e-02, -3.62982787e-02,\n",
       "        2.44265273e-02, -4.44332510e-02,  9.20078252e-03, -3.34316418e-02,\n",
       "       -5.67909442e-02, -5.17232530e-03,  8.20795074e-04, -9.94462986e-03,\n",
       "       -3.20194550e-02, -8.36161617e-03,  7.07787136e-03,  1.46035198e-03,\n",
       "        3.01203150e-02,  2.35912763e-02, -2.92529166e-02, -2.70215180e-02,\n",
       "       -5.36955707e-03,  5.25475852e-03,  1.49889234e-02,  3.81433740e-02,\n",
       "        1.03313625e-02,  1.33065972e-02, -2.15592738e-02, -3.80303827e-03,\n",
       "       -4.20448557e-03, -1.54106664e-02, -3.60529348e-02, -4.32662433e-03,\n",
       "        4.99712043e-02,  4.02100384e-04,  5.41560948e-02,  2.17720754e-02,\n",
       "        3.47340517e-02,  4.43925103e-03, -3.14181484e-02, -1.41755920e-02,\n",
       "       -2.56654434e-02,  1.02943834e-03, -2.35275738e-03, -4.80255298e-02,\n",
       "        4.92376164e-02, -2.88995802e-02,  2.21734755e-02,  5.76068386e-02,\n",
       "       -1.30124185e-02,  1.94768514e-02,  2.86965892e-02,  1.02132689e-02,\n",
       "        1.90352984e-02, -3.13365683e-02, -3.39571312e-02,  4.12178226e-02,\n",
       "       -4.10542898e-02,  4.69383318e-03, -2.70239208e-02,  2.72511020e-02,\n",
       "        1.88392401e-02,  2.31301114e-02,  1.63667351e-02, -1.13262758e-02,\n",
       "        3.00840698e-02,  4.85874414e-02,  5.60270399e-02,  2.69081220e-02,\n",
       "        1.46985585e-02, -6.06159605e-02,  2.59427465e-02, -7.27138668e-03,\n",
       "       -3.70208398e-02, -3.86210009e-02,  4.04847600e-03,  2.12089550e-02,\n",
       "       -5.12331724e-04, -4.01858650e-02, -1.22374035e-02,  5.02685308e-02,\n",
       "        8.36497173e-03, -3.43908891e-02, -2.47224048e-02, -5.25457785e-04,\n",
       "        1.08320490e-02,  5.10167032e-02, -2.11913176e-02,  7.27739185e-02,\n",
       "       -4.81104618e-03, -7.19706248e-03, -7.14324415e-07,  1.89322792e-02,\n",
       "        5.57808615e-02, -3.93542051e-02, -3.45425755e-02, -1.01047615e-02,\n",
       "       -1.78814065e-02, -6.05736934e-02,  1.92801431e-02, -8.71668570e-04,\n",
       "        1.61961559e-02,  3.14755319e-03, -9.91098024e-03,  2.02270020e-02,\n",
       "       -8.54610745e-03, -1.29686445e-02, -1.76159032e-02,  2.45496966e-02,\n",
       "       -1.55777484e-02, -3.10422201e-03, -4.17114086e-02,  2.12119538e-02,\n",
       "        5.32583818e-02,  1.49967223e-02, -4.80988855e-03, -1.41446264e-02,\n",
       "       -2.72659957e-02, -2.07165498e-02,  6.41979352e-02,  3.43988761e-02,\n",
       "        1.18007790e-02, -9.80530959e-03, -4.76616323e-02, -4.47117910e-02,\n",
       "        9.29217413e-03,  1.94087010e-02,  5.81593513e-02,  3.88851203e-03,\n",
       "        1.46548524e-02, -1.54887037e-02,  4.65740338e-02, -4.18399982e-02,\n",
       "        4.61797342e-02, -6.89922553e-03,  3.23162340e-02,  6.64155977e-03,\n",
       "        6.33593574e-02,  1.52327716e-02,  2.36923601e-02, -4.87939380e-02,\n",
       "       -5.86751103e-02,  9.97369364e-03,  1.08248182e-02,  7.62504200e-03,\n",
       "        1.01419883e-02, -2.75526941e-03,  3.35530788e-02,  1.37652755e-02,\n",
       "       -1.68053526e-02, -4.74952757e-02,  2.59898044e-02,  2.77199708e-02,\n",
       "       -6.11974765e-03,  1.73918549e-02,  7.64184147e-02, -2.91294120e-02,\n",
       "       -8.44050758e-03, -5.46232834e-02, -5.20847738e-02,  1.42605286e-02,\n",
       "       -2.17768252e-02,  2.21197382e-02,  5.32045960e-02,  8.07639398e-03,\n",
       "        5.04247025e-02, -1.55756976e-02, -3.05451117e-02,  1.53278476e-02,\n",
       "        2.03795787e-02,  8.16123467e-03,  4.76124622e-02,  1.76313519e-02,\n",
       "       -5.95789216e-03, -1.01622883e-02, -3.21112946e-02, -4.23300564e-02,\n",
       "        3.08653675e-02,  2.58516669e-02,  1.54501330e-02,  1.65143609e-02,\n",
       "       -1.91650819e-02,  1.34654921e-02,  2.22096983e-02,  5.30886315e-02,\n",
       "       -4.93441224e-02,  2.06604600e-02,  1.20046977e-02,  1.69919170e-02,\n",
       "        3.50389816e-02,  1.73521265e-02,  5.29880114e-02, -7.28722289e-03,\n",
       "       -1.95837580e-02,  2.52656639e-02, -4.19520587e-02, -2.73248889e-02,\n",
       "        1.65112652e-02,  6.14958443e-03,  2.44950540e-02,  1.56131331e-02,\n",
       "        1.16767222e-03, -8.68825056e-03, -2.35744715e-02, -5.42649850e-02,\n",
       "        2.82252133e-02,  2.85630357e-02, -2.51250938e-02, -3.43326256e-02,\n",
       "       -8.22965614e-03,  3.53831649e-02, -3.79996113e-02,  3.31474394e-02,\n",
       "        2.14252621e-04,  3.71877179e-02, -3.47700007e-02,  1.32121369e-02,\n",
       "       -6.56774268e-04, -3.25652771e-04, -8.27574730e-03,  3.11166495e-02,\n",
       "        2.46069562e-02,  1.66838523e-03, -4.53942642e-02,  1.95000134e-02,\n",
       "       -2.78258603e-02,  3.00774332e-02, -2.91665830e-03,  2.23414041e-02,\n",
       "        9.22198221e-03,  2.14918591e-02,  1.16974674e-03,  3.00291311e-02,\n",
       "       -4.43030335e-03,  1.94070823e-02,  3.78049612e-02, -5.47077656e-02,\n",
       "       -1.21230800e-02,  1.00966226e-02,  9.52782854e-03,  1.26283783e-02,\n",
       "        3.43412496e-02,  2.56069489e-02, -1.98032223e-02, -2.56533958e-02,\n",
       "       -1.01833697e-02,  7.83845875e-03,  2.47908868e-02,  1.75196063e-02,\n",
       "       -3.59036624e-02,  1.73612740e-02, -3.46325934e-02, -2.72677206e-02,\n",
       "       -4.55369428e-03,  3.09032761e-02, -6.33026510e-02,  1.09061282e-02,\n",
       "       -2.87048854e-02, -3.40229366e-04,  7.99017772e-03, -3.84164266e-02,\n",
       "        1.73174869e-02, -2.24326849e-02,  5.10697719e-03, -1.32376645e-02,\n",
       "       -5.51671907e-02, -1.37983691e-02, -1.85555983e-02, -2.73283124e-02,\n",
       "        1.95558369e-02,  4.21056561e-02,  1.66071448e-02, -3.41550782e-02,\n",
       "        1.76997744e-02, -3.90962102e-02,  4.71798442e-02, -1.82754174e-02,\n",
       "        1.50431953e-02,  3.33450139e-02, -2.83524417e-03, -6.78679394e-03,\n",
       "       -1.27366595e-02,  1.00208456e-02,  4.13421616e-02,  4.96722087e-02,\n",
       "        3.57620008e-02,  3.07475124e-03, -2.72223428e-02,  2.32634395e-02,\n",
       "        3.94334644e-02,  1.78461373e-02,  7.10136816e-02,  4.94866632e-03,\n",
       "       -6.74756151e-03,  3.21555659e-02,  1.14642736e-02,  5.19778281e-02,\n",
       "        2.55514272e-02,  2.14129332e-02,  1.64388902e-02, -4.16092053e-02,\n",
       "        4.37506698e-02, -9.55236889e-03,  1.48232002e-03, -1.72002558e-02,\n",
       "        1.61800496e-02,  3.31744552e-03,  6.32625958e-03,  1.00452034e-02,\n",
       "        7.27259647e-03,  1.63933681e-03,  2.52022259e-02,  1.96382403e-04,\n",
       "        4.94009405e-02, -3.42522152e-02,  2.38182023e-02,  2.92701609e-02,\n",
       "        5.62715121e-02,  3.89696397e-02, -7.43675530e-02, -7.06343874e-02,\n",
       "        2.73479111e-02, -6.22491445e-03, -9.16212425e-03,  5.85828461e-02,\n",
       "       -1.18500469e-02, -4.94545512e-03, -3.86568271e-02,  5.98165914e-02,\n",
       "        3.02669741e-02,  1.62711516e-02, -1.99227594e-02,  9.29249264e-03,\n",
       "       -9.29397065e-04,  3.10429595e-02, -2.78084073e-03,  4.05867100e-02,\n",
       "        4.38490883e-02,  3.36898025e-03,  1.61477234e-02,  3.15970089e-03,\n",
       "        8.09305161e-03, -1.04376134e-02,  2.53807884e-02,  5.64685166e-02,\n",
       "       -3.00957821e-02,  1.22775044e-03,  9.32690501e-03,  6.70314580e-02,\n",
       "        1.35671915e-02,  5.07243648e-02, -3.59986499e-02,  1.18923374e-02,\n",
       "       -3.05758473e-02, -3.90185006e-02,  6.43523969e-03,  2.12549847e-02,\n",
       "        2.50655245e-02,  5.03407679e-02,  1.16046946e-02, -2.04366874e-02,\n",
       "        9.33151226e-04,  1.98644511e-02, -1.58779062e-02, -3.73914987e-02,\n",
       "        6.89725718e-03,  3.64675634e-02,  4.08736542e-02,  1.39094945e-02,\n",
       "       -7.68177062e-02,  1.70499347e-02,  1.50868576e-03,  3.53854033e-03,\n",
       "        1.99603960e-02,  6.19816370e-02, -2.30436586e-03, -1.01703936e-02,\n",
       "        4.20215447e-03, -9.57635790e-03,  1.65384393e-02, -2.49470212e-03,\n",
       "        3.84886265e-02,  4.39794362e-02, -4.28126343e-02, -1.08210342e-02,\n",
       "        6.64151460e-03, -1.19815292e-02,  8.17036070e-03, -2.27651130e-02,\n",
       "       -4.37837746e-03, -1.34950066e-02,  9.86069813e-03,  3.11166905e-02,\n",
       "        7.41010252e-03, -2.51568481e-03, -1.25963809e-02,  6.54209852e-02,\n",
       "        1.86544545e-02,  3.30395438e-02, -1.31215490e-02,  1.57421157e-02,\n",
       "       -3.86688346e-03,  3.01016099e-03,  5.22796959e-02, -6.84115738e-02,\n",
       "        1.05577167e-02,  5.99856153e-02, -2.25258209e-02,  2.54654177e-02,\n",
       "        2.60690562e-02, -4.35895808e-02,  4.65341806e-02,  9.26210359e-03,\n",
       "        6.96589984e-03, -4.92011532e-02, -3.00103240e-02,  1.03797037e-02,\n",
       "       -3.06807812e-02,  1.15132490e-02,  7.11634681e-02, -1.55008426e-02,\n",
       "       -6.26415713e-03, -3.39266062e-02, -4.47984636e-02,  7.40326848e-03,\n",
       "        1.75064374e-02,  5.00882091e-03, -3.29419337e-02,  6.52607456e-02,\n",
       "        5.21106198e-02,  1.84307769e-02,  1.33547494e-02,  2.33418420e-02,\n",
       "       -2.48781405e-02, -3.39265130e-02, -1.45539148e-02,  4.98548001e-02,\n",
       "        6.06154762e-02,  3.28324325e-02, -3.75900604e-02, -1.32118193e-02,\n",
       "        5.71570639e-03,  2.95155775e-02, -2.57362165e-02, -2.24781409e-02,\n",
       "        2.11458728e-02,  5.90379536e-03, -1.51113677e-03,  3.08729336e-03,\n",
       "       -4.86535132e-02, -2.96898894e-02, -1.09412549e-02, -3.54782529e-02,\n",
       "       -3.58857177e-02,  5.03061451e-02, -5.23292460e-04,  3.54154333e-02,\n",
       "       -4.67495881e-02,  3.74159776e-02,  1.07547622e-02, -2.78957300e-02,\n",
       "       -3.32411677e-02,  2.73173638e-02,  5.10804169e-03,  5.76817244e-03,\n",
       "       -4.42873780e-03, -2.10504178e-02, -3.81908417e-02,  1.30079202e-02,\n",
       "       -4.42099571e-02,  2.89551634e-03, -7.20787328e-03,  2.37696636e-02,\n",
       "        1.39988977e-02,  2.00853441e-02,  1.97854526e-02, -6.12253062e-02,\n",
       "        4.43036761e-03, -4.37113568e-02,  1.81341507e-02, -7.03960843e-03,\n",
       "        4.60392311e-02, -3.21481638e-02, -1.27507001e-03, -2.30014604e-02,\n",
       "       -4.98727672e-02, -2.72217207e-02,  3.42263617e-02, -7.68301338e-02,\n",
       "        5.92897274e-02, -8.54063127e-03, -5.69329560e-02,  2.75850073e-02],\n",
       "      dtype=float32)"
      ]
     },
     "execution_count": 82,
     "metadata": {},
     "output_type": "execute_result"
    }
   ],
   "source": [
    "centroids[cur_label]"
   ]
  },
  {
   "cell_type": "code",
   "execution_count": null,
   "metadata": {},
   "outputs": [],
   "source": []
  }
 ],
 "metadata": {
  "kernelspec": {
   "display_name": "Python 3",
   "language": "python",
   "name": "python3"
  },
  "language_info": {
   "codemirror_mode": {
    "name": "ipython",
    "version": 3
   },
   "file_extension": ".py",
   "mimetype": "text/x-python",
   "name": "python",
   "nbconvert_exporter": "python",
   "pygments_lexer": "ipython3",
   "version": "3.7.3"
  }
 },
 "nbformat": 4,
 "nbformat_minor": 2
}
